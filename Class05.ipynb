{
 "cells": [
  {
   "cell_type": "markdown",
   "metadata": {},
   "source": [
    "# Class 05 - Functions & The math Module\n",
    "**COMP130 - Introduction to Computing**  \n",
    "**Dickinson College**  "
   ]
  },
  {
   "cell_type": "markdown",
   "metadata": {},
   "source": [
    "### Names:"
   ]
  },
  {
   "cell_type": "markdown",
   "metadata": {},
   "source": [
    "The names of all the folks who worked on this (maybe just you) go here."
   ]
  },
  {
   "cell_type": "markdown",
   "metadata": {
    "deletable": false,
    "editable": false,
    "run_control": {
     "frozen": true
    }
   },
   "source": [
    "### Functions, Arguments and Values"
   ]
  },
  {
   "cell_type": "markdown",
   "metadata": {
    "deletable": false,
    "editable": false,
    "run_control": {
     "frozen": true
    }
   },
   "source": [
    "Consider the program in the code cell below:"
   ]
  },
  {
   "cell_type": "code",
   "execution_count": 1,
   "metadata": {
    "deletable": false,
    "editable": false
   },
   "outputs": [
    {
     "name": "stdout",
     "output_type": "stream",
     "text": [
      "25.3\n"
     ]
    }
   ],
   "source": [
    "larger=max(25.26,2.22)\n",
    "one_decimal=round(larger,1)\n",
    "print(one_decimal)"
   ]
  },
  {
   "cell_type": "markdown",
   "metadata": {
    "deletable": false,
    "editable": false,
    "run_control": {
     "frozen": true
    }
   },
   "source": [
    "__Q1:__ What functions are being called in the above code?"
   ]
  },
  {
   "cell_type": "markdown",
   "metadata": {},
   "source": [
    "1. max( )\n",
    "2. round( )\n",
    "3. print( )"
   ]
  },
  {
   "cell_type": "markdown",
   "metadata": {
    "deletable": false,
    "editable": false,
    "run_control": {
     "frozen": true
    }
   },
   "source": [
    "__Q2:__ What are the values and types of the *arguments* that are being *passed* to the `max` function? Hint: Use the `type` function is you are unsure."
   ]
  },
  {
   "cell_type": "markdown",
   "metadata": {},
   "source": [
    "Argument 1: value = `25.26`, type = float\n",
    "\n",
    "Argument 2: value = `2.22`, type = float"
   ]
  },
  {
   "cell_type": "markdown",
   "metadata": {
    "deletable": false,
    "editable": false,
    "run_control": {
     "frozen": true
    }
   },
   "source": [
    "__Q3:__ What is the value and type *returned by* the `max` function?"
   ]
  },
  {
   "cell_type": "markdown",
   "metadata": {},
   "source": [
    "On line 1, `max()` returns the value 25.26, a float."
   ]
  },
  {
   "cell_type": "markdown",
   "metadata": {
    "deletable": false,
    "editable": false,
    "run_control": {
     "frozen": true
    }
   },
   "source": [
    "__Q4:__ What is the actual text of each of the arguments that appears in the call to the `round` function?  What is the type and value of each of those arguments?"
   ]
  },
  {
   "cell_type": "markdown",
   "metadata": {},
   "source": [
    "On line 2, round( ) takes 2 arguments:\n",
    "* `larger`: value = 25.26 which is of type float\n",
    "* `1`: its value is of course 1 which is of type int"
   ]
  },
  {
   "cell_type": "markdown",
   "metadata": {
    "deletable": false,
    "editable": false,
    "run_control": {
     "frozen": true
    }
   },
   "source": [
    "Now consider the program code in the code cell below. Note that this program produces exactly the same result as the prior program."
   ]
  },
  {
   "cell_type": "code",
   "execution_count": 3,
   "metadata": {},
   "outputs": [
    {
     "name": "stdout",
     "output_type": "stream",
     "text": [
      "25.3\n"
     ]
    }
   ],
   "source": [
    "one_decimal=round(max(25.26,2.22),1)\n",
    "print(one_decimal)"
   ]
  },
  {
   "cell_type": "markdown",
   "metadata": {
    "deletable": false,
    "editable": false,
    "run_control": {
     "frozen": true
    }
   },
   "source": [
    "__Q5:__ What is the actual text of each of the arguments being passed to the `round` function? What are the types and values of those arguments?"
   ]
  },
  {
   "cell_type": "markdown",
   "metadata": {},
   "source": [
    "On line 1, round( ) takes 2 arguments:\n",
    "\n",
    "* max(25.26, 2.22): value = 25.26 which is of type float\n",
    "* 1: its value is of course 1 which is of type int"
   ]
  },
  {
   "cell_type": "markdown",
   "metadata": {},
   "source": [
    "__Q6:__ Based on your above answers explain why it make sense that it is possible to write a function call directly in the list of arguments to another function? (e.g. as the call to `max` was in the code above.)"
   ]
  },
  {
   "cell_type": "markdown",
   "metadata": {},
   "source": [
    "A function call returns a value.\n",
    "\n",
    "That value can then be used as one of the arguments in another function call."
   ]
  },
  {
   "cell_type": "markdown",
   "metadata": {
    "deletable": false,
    "editable": false,
    "run_control": {
     "frozen": true
    }
   },
   "source": [
    "__Q7:__ Take things one step further and rewrite the code above in a single line."
   ]
  },
  {
   "cell_type": "code",
   "execution_count": 2,
   "metadata": {},
   "outputs": [
    {
     "name": "stdout",
     "output_type": "stream",
     "text": [
      "25.3\n"
     ]
    }
   ],
   "source": [
    "print(round(max(25.26,2.22),1))"
   ]
  },
  {
   "cell_type": "markdown",
   "metadata": {
    "deletable": false,
    "editable": false,
    "run_control": {
     "frozen": true
    }
   },
   "source": [
    "### Type Conversions"
   ]
  },
  {
   "cell_type": "markdown",
   "metadata": {
    "deletable": false,
    "editable": false,
    "run_control": {
     "frozen": true
    }
   },
   "source": [
    "When working with strings and numbers (`int` or `float`) it is frequently necessary to convert between them.  \n",
    "\n",
    "Consider the program in the code cell below. It attempts to print out the string `We are #1` but it does not work correctly."
   ]
  },
  {
   "cell_type": "code",
   "execution_count": 4,
   "metadata": {},
   "outputs": [
    {
     "ename": "TypeError",
     "evalue": "can only concatenate str (not \"int\") to str",
     "output_type": "error",
     "traceback": [
      "\u001b[0;31m---------------------------------------------------------------------------\u001b[0m",
      "\u001b[0;31mTypeError\u001b[0m                                 Traceback (most recent call last)",
      "\u001b[0;32m<ipython-input-4-932baac4290d>\u001b[0m in \u001b[0;36m<module>\u001b[0;34m\u001b[0m\n\u001b[1;32m      1\u001b[0m \u001b[0mnumber\u001b[0m\u001b[0;34m=\u001b[0m\u001b[0;36m1\u001b[0m\u001b[0;34m\u001b[0m\u001b[0;34m\u001b[0m\u001b[0m\n\u001b[1;32m      2\u001b[0m \u001b[0mline\u001b[0m\u001b[0;34m=\u001b[0m\u001b[0;34m\"We are #\"\u001b[0m\u001b[0;34m\u001b[0m\u001b[0;34m\u001b[0m\u001b[0m\n\u001b[0;32m----> 3\u001b[0;31m \u001b[0mprint\u001b[0m\u001b[0;34m(\u001b[0m\u001b[0mline\u001b[0m \u001b[0;34m+\u001b[0m \u001b[0mnumber\u001b[0m\u001b[0;34m)\u001b[0m\u001b[0;34m\u001b[0m\u001b[0;34m\u001b[0m\u001b[0m\n\u001b[0m",
      "\u001b[0;31mTypeError\u001b[0m: can only concatenate str (not \"int\") to str"
     ]
    }
   ],
   "source": [
    "number=1\n",
    "line=\"We are #\"\n",
    "print(line + number)"
   ]
  },
  {
   "cell_type": "markdown",
   "metadata": {},
   "source": [
    "__Q8:__ Run the above code cell.  What is the problem with the above program?"
   ]
  },
  {
   "cell_type": "markdown",
   "metadata": {},
   "source": [
    "On line 3, the program is directed to display next to each other (\"concatenate\") a string and an integer. These 2 different data types cannot be combined in this manner."
   ]
  },
  {
   "cell_type": "markdown",
   "metadata": {},
   "source": [
    "__Q9:__ What information in the error message helps you to identify *where* the problem is? "
   ]
  },
  {
   "cell_type": "markdown",
   "metadata": {},
   "source": [
    "the green arrow on the left (`---->`) pointing to line 3"
   ]
  },
  {
   "cell_type": "markdown",
   "metadata": {
    "deletable": false,
    "editable": false,
    "run_control": {
     "frozen": true
    }
   },
   "source": [
    "__Q10:__ What information in the output helps you identify *what* the problem is?"
   ]
  },
  {
   "cell_type": "markdown",
   "metadata": {},
   "source": [
    "The `TypeError` message at the bottom:\n",
    "\n",
    "`TypeError: can only concatenate str (not \"int\") to str`"
   ]
  },
  {
   "cell_type": "markdown",
   "metadata": {
    "deletable": false,
    "editable": false,
    "run_control": {
     "frozen": true
    }
   },
   "source": [
    "__Q11:__ Rewrite just the `print` statement from above in the code cell below using built-in `str()` function so that it correctly prints `We are #1`."
   ]
  },
  {
   "cell_type": "code",
   "execution_count": 5,
   "metadata": {},
   "outputs": [
    {
     "name": "stdout",
     "output_type": "stream",
     "text": [
      "We are #1\n"
     ]
    }
   ],
   "source": [
    "print(line + str(number))"
   ]
  },
  {
   "cell_type": "markdown",
   "metadata": {
    "deletable": false,
    "editable": false,
    "run_control": {
     "frozen": true
    }
   },
   "source": [
    "Now consider the program in the code cell below.  It attempts to read in two numbers and print their sum."
   ]
  },
  {
   "cell_type": "code",
   "execution_count": 6,
   "metadata": {
    "deletable": false,
    "editable": false
   },
   "outputs": [
    {
     "name": "stdout",
     "output_type": "stream",
     "text": [
      "Enter a number:2\n",
      "Enter another number:2\n",
      "22\n"
     ]
    }
   ],
   "source": [
    "num1=input('Enter a number:')\n",
    "num2=input('Enter another number:')\n",
    "sum=num1+num2\n",
    "print(sum)"
   ]
  },
  {
   "cell_type": "markdown",
   "metadata": {},
   "source": [
    "__Q12:__ Run the program in the code cell above.  What does it actually print?  Use the data types of the values to explain why the program behaves as it does."
   ]
  },
  {
   "cell_type": "markdown",
   "metadata": {},
   "source": [
    "The code prints the 2 responses to the `input( )` lines, one after another.\n",
    "\n",
    "From the code, we might expect the program to *add* rather than *concatenate* the responses.\n",
    "\n",
    "Since the program concatenates the responses rather than doing any kind of addition with them, we can assume that the values of the responses to `input( )` are strings.\n",
    "\n",
    "Adding a type( ) function call confirms this assumption:"
   ]
  },
  {
   "cell_type": "code",
   "execution_count": 7,
   "metadata": {},
   "outputs": [
    {
     "name": "stdout",
     "output_type": "stream",
     "text": [
      "Enter a number:2\n",
      "Enter another number:2\n",
      "22\n"
     ]
    },
    {
     "data": {
      "text/plain": [
       "str"
      ]
     },
     "execution_count": 7,
     "metadata": {},
     "output_type": "execute_result"
    }
   ],
   "source": [
    "num1=input('Enter a number:')\n",
    "num2=input('Enter another number:')\n",
    "sum=num1+num2\n",
    "print(sum)\n",
    "type(num1)"
   ]
  },
  {
   "cell_type": "markdown",
   "metadata": {},
   "source": [
    "__Q13:__ Rewrite the above program in the code cell below using the `float()` function such that the values assigned into the variables `num1` and `num2` are floating point numbers so that the program will work correctly. "
   ]
  },
  {
   "cell_type": "code",
   "execution_count": 8,
   "metadata": {},
   "outputs": [
    {
     "name": "stdout",
     "output_type": "stream",
     "text": [
      "Enter a number:2\n",
      "Enter another number:2\n",
      "4.0\n"
     ]
    }
   ],
   "source": [
    "num1=float(input('Enter a number:'))\n",
    "num2=float(input('Enter another number:'))\n",
    "sum=num1+num2\n",
    "print(sum)"
   ]
  },
  {
   "cell_type": "markdown",
   "metadata": {
    "deletable": false,
    "editable": false,
    "run_control": {
     "frozen": true
    }
   },
   "source": [
    "### Type Conversion Subtleties"
   ]
  },
  {
   "cell_type": "markdown",
   "metadata": {
    "deletable": false,
    "editable": false,
    "run_control": {
     "frozen": true
    }
   },
   "source": [
    "__Q14:__ The `int()` and `float()` functions will generate a runtime error if they are given an argument that cannot be converted into an `int` or a `float` value respectively. Use the code cells below to give an example of `int()` and `float()` generating an error."
   ]
  },
  {
   "cell_type": "code",
   "execution_count": 9,
   "metadata": {},
   "outputs": [
    {
     "ename": "ValueError",
     "evalue": "invalid literal for int() with base 10: 'seventeen'",
     "output_type": "error",
     "traceback": [
      "\u001b[0;31m---------------------------------------------------------------------------\u001b[0m",
      "\u001b[0;31mValueError\u001b[0m                                Traceback (most recent call last)",
      "\u001b[0;32m<ipython-input-9-29f15bc19200>\u001b[0m in \u001b[0;36m<module>\u001b[0;34m\u001b[0m\n\u001b[0;32m----> 1\u001b[0;31m \u001b[0mint\u001b[0m\u001b[0;34m(\u001b[0m\u001b[0;34m\"seventeen\"\u001b[0m\u001b[0;34m)\u001b[0m\u001b[0;34m\u001b[0m\u001b[0;34m\u001b[0m\u001b[0m\n\u001b[0m",
      "\u001b[0;31mValueError\u001b[0m: invalid literal for int() with base 10: 'seventeen'"
     ]
    }
   ],
   "source": [
    "int(\"seventeen\")"
   ]
  },
  {
   "cell_type": "code",
   "execution_count": 13,
   "metadata": {},
   "outputs": [
    {
     "ename": "SyntaxError",
     "evalue": "invalid syntax (<ipython-input-13-d74d7161d76b>, line 1)",
     "output_type": "error",
     "traceback": [
      "\u001b[0;36m  File \u001b[0;32m\"<ipython-input-13-d74d7161d76b>\"\u001b[0;36m, line \u001b[0;32m1\u001b[0m\n\u001b[0;31m    float(7.654.321)\u001b[0m\n\u001b[0m                  ^\u001b[0m\n\u001b[0;31mSyntaxError\u001b[0m\u001b[0;31m:\u001b[0m invalid syntax\n"
     ]
    }
   ],
   "source": [
    "float(7.654.321)"
   ]
  },
  {
   "cell_type": "markdown",
   "metadata": {
    "deletable": false,
    "editable": false,
    "run_control": {
     "frozen": true
    }
   },
   "source": [
    "__Q15:__ The code cell below performs some conversions from values of type `float` to values of type `int`. Run the cell and then based on the output explain how the `int()` function converts from `float` values to `int` values."
   ]
  },
  {
   "cell_type": "code",
   "execution_count": 14,
   "metadata": {
    "deletable": false,
    "editable": false
   },
   "outputs": [
    {
     "name": "stdout",
     "output_type": "stream",
     "text": [
      "2\n",
      "2\n",
      "2\n",
      "2\n",
      "-3\n",
      "-3\n"
     ]
    }
   ],
   "source": [
    "print(int(2.0))\n",
    "print(int(2.47938))\n",
    "print(int(2.573))\n",
    "print(int(2.92))\n",
    "print(int(-3.8))\n",
    "print(int(-3.25))"
   ]
  },
  {
   "cell_type": "markdown",
   "metadata": {},
   "source": [
    "`int( )` \"chops off\" the decimal values of a number in the parentheses and discards them.\n",
    "\n",
    "The whole number that remains is returned as the result of `int( )`."
   ]
  },
  {
   "cell_type": "markdown",
   "metadata": {
    "deletable": false,
    "editable": false,
    "run_control": {
     "frozen": true
    }
   },
   "source": [
    "Run the code cell below. Then use the built-in Python type conversion functions and the defined variables to print the output indicated in the following questions."
   ]
  },
  {
   "cell_type": "code",
   "execution_count": 17,
   "metadata": {
    "deletable": false,
    "editable": false
   },
   "outputs": [],
   "source": [
    "num1=37\n",
    "num2=10.75\n",
    "str1='hello'\n",
    "str2='28'\n",
    "str3='2.5'"
   ]
  },
  {
   "cell_type": "markdown",
   "metadata": {
    "deletable": false,
    "editable": false,
    "run_control": {
     "frozen": true
    }
   },
   "source": [
    "__Q16:__ `28hello37`"
   ]
  },
  {
   "cell_type": "code",
   "execution_count": 18,
   "metadata": {},
   "outputs": [
    {
     "name": "stdout",
     "output_type": "stream",
     "text": [
      "28hello37\n"
     ]
    }
   ],
   "source": [
    "print(str2 + str1 + str(num1))"
   ]
  },
  {
   "cell_type": "markdown",
   "metadata": {
    "deletable": false,
    "editable": false,
    "run_control": {
     "frozen": true
    }
   },
   "source": [
    "__Q17:__ `13.2537`"
   ]
  },
  {
   "cell_type": "code",
   "execution_count": 20,
   "metadata": {},
   "outputs": [
    {
     "name": "stdout",
     "output_type": "stream",
     "text": [
      "13.2537\n"
     ]
    }
   ],
   "source": [
    "print(str(num2 + float(str3)) + str(num1))"
   ]
  },
  {
   "cell_type": "markdown",
   "metadata": {
    "deletable": false,
    "editable": false,
    "run_control": {
     "frozen": true
    }
   },
   "source": [
    "__Q18:__ `2`"
   ]
  },
  {
   "cell_type": "code",
   "execution_count": 24,
   "metadata": {},
   "outputs": [
    {
     "name": "stdout",
     "output_type": "stream",
     "text": [
      "2\n"
     ]
    }
   ],
   "source": [
    "print(int(float(str3)))"
   ]
  },
  {
   "cell_type": "markdown",
   "metadata": {
    "deletable": false,
    "editable": false,
    "run_control": {
     "frozen": true
    }
   },
   "source": [
    "### math module & Documentation"
   ]
  },
  {
   "cell_type": "markdown",
   "metadata": {
    "deletable": false,
    "editable": false,
    "run_control": {
     "frozen": true
    }
   },
   "source": [
    "Use the documentation for the `math` and `random` modules on the course home page to answer the following questions."
   ]
  },
  {
   "cell_type": "markdown",
   "metadata": {
    "deletable": false,
    "editable": false,
    "run_control": {
     "frozen": true
    }
   },
   "source": [
    "__Q19:__ What does the `math.hypot()` function compute?  How many arguments does it take?"
   ]
  },
  {
   "cell_type": "markdown",
   "metadata": {},
   "source": [
    "`math.hypot()` returns the length of a line from the origin of a 2D coordinate system to some point (x, y) in that coordinate system.\n",
    "\n",
    "`math.hypot()` requires 2 arguments, the x and y of the specified point: `math.hypot(x, y)`"
   ]
  },
  {
   "cell_type": "markdown",
   "metadata": {
    "deletable": false,
    "editable": false,
    "run_control": {
     "frozen": true
    }
   },
   "source": [
    "__Q20:__ What does the `math.floor()` function compute?"
   ]
  },
  {
   "cell_type": "markdown",
   "metadata": {},
   "source": [
    "`math.floor(x)` returns the largest integer less than or equal to x."
   ]
  },
  {
   "cell_type": "markdown",
   "metadata": {
    "deletable": false,
    "editable": false,
    "run_control": {
     "frozen": true
    }
   },
   "source": [
    "__Q21:__ What function would you use to convert an angle in degrees to a value in radians?"
   ]
  },
  {
   "cell_type": "markdown",
   "metadata": {},
   "source": [
    "`math.radians()` takes a number of degrees as its single argument and converts that number to its equivalent in radians. "
   ]
  },
  {
   "cell_type": "markdown",
   "metadata": {
    "deletable": false,
    "editable": false,
    "run_control": {
     "frozen": true
    }
   },
   "source": [
    "__Q22:__ What function would you use to get a random integer between 1 and 10?"
   ]
  },
  {
   "cell_type": "markdown",
   "metadata": {},
   "source": [
    "`random.randint(1, 10)`"
   ]
  },
  {
   "cell_type": "markdown",
   "metadata": {
    "deletable": false,
    "editable": false,
    "run_control": {
     "frozen": true
    }
   },
   "source": [
    "### Exercises"
   ]
  },
  {
   "cell_type": "markdown",
   "metadata": {
    "deletable": false,
    "editable": false,
    "run_control": {
     "frozen": true
    }
   },
   "source": [
    "__Q23:__ Write a program in the code cell below that prompts the user for an angle in degrees and then prints the measure of the angle in radians. The output should be something like `An angle of X degrees is Y radians.` with `X` and `Y` replaced with appropriate values."
   ]
  },
  {
   "cell_type": "code",
   "execution_count": 47,
   "metadata": {},
   "outputs": [
    {
     "name": "stdout",
     "output_type": "stream",
     "text": [
      "Please think of an angle of a certain number of degrees.\n",
      "Please enter those degrees below.\n",
      "37\n",
      "That is the equivalent of an angle of 0.6457718232379019 radians.\n"
     ]
    }
   ],
   "source": [
    "import math\n",
    "\n",
    "print(\"Please think of an angle of a certain number of degrees.\")\n",
    "degrees = float(input(\"Please enter those degrees below.\\n\"))\n",
    "print(\"That is the equivalent of an angle of \" + str(math.radians(degrees)) + \" radians.\")"
   ]
  },
  {
   "cell_type": "markdown",
   "metadata": {
    "deletable": false,
    "editable": false
   },
   "source": [
    "__Q24:__ Recall the right triangle mnemonic SOH-CAH-TOA from your high school geometry course.  The SOH corresponds to the equation:\n",
    "\n",
    "$sine(\\theta)=\\frac{Opposite}{Hypotenuse}$\n",
    "\n",
    "Which can be rewritten to allow the computation of the opposite side length given $\\theta$ and the Hypotenuse as:\n",
    "\n",
    "$Opposite = Hypotenuse \\cdot sine(\\theta)$\n",
    "\n",
    "Write a program in the code cell below that prompts the user for the the length of the hypotenuse and $\\theta$ in degrees and then prints the length of the opposite side."
   ]
  },
  {
   "cell_type": "code",
   "execution_count": 93,
   "metadata": {},
   "outputs": [
    {
     "name": "stdout",
     "output_type": "stream",
     "text": [
      "If you tell me the length and angle of a hypotenuse,\n",
      "I will tell you the length of its opposite side.\n",
      "\n",
      "Please tell me the length of the hypotenuse.\n",
      "(Don't worry about the units.)\n",
      "1\n",
      "Please tell me the angle of the hypotenuse in degrees.\n",
      "45\n",
      "The length of the opposite side is \n",
      "0.7071067811865475\n"
     ]
    }
   ],
   "source": [
    "import math\n",
    "\n",
    "print(\"If you tell me the length and angle of a hypotenuse,\")\n",
    "print(\"I will tell you the length of its opposite side.\")\n",
    "print()\n",
    "print(\"Please tell me the length of the hypotenuse.\")\n",
    "hyp = float(input(\"(Don't worry about the units.)\\n\"))\n",
    "ang = float(input(\"Please tell me the angle of the hypotenuse in degrees.\\n\"))\n",
    "print(\"The length of the opposite side is \")\n",
    "print(math.fabs(hyp * math.sin(math.radians(ang))))"
   ]
  },
  {
   "cell_type": "markdown",
   "metadata": {},
   "source": [
    "__Q25:__ In the [Powerball Lottery Game](https://www.powerball.com/games/powerball) six random numbers are drawn.  Five numbers are given by *white balls*, which contain a number from 1 to 69 and the final number is given by a red *Powerball* which contains a number from 1 to 26. The machines at the stores that sell Powerball tickets can randomly generate tickets for customers that do not wish to pick their own numbers.  Write a program that generates a Powerball ticket consisting of values for the 5 white balls and the red Powerball.  The program should output something like: `White balls: 4 19 12 63 38 Powerball: 17`."
   ]
  },
  {
   "cell_type": "code",
   "execution_count": 117,
   "metadata": {},
   "outputs": [
    {
     "name": "stdout",
     "output_type": "stream",
     "text": [
      "White balls: 15 32 29 2 53\n",
      "Powerball: 1\n"
     ]
    }
   ],
   "source": [
    "import random\n",
    "\n",
    "wb1 = str(random.randint(1, 69))\n",
    "wb2 = str(random.randint(1, 69))\n",
    "wb3 = str(random.randint(1, 69))\n",
    "wb4 = str(random.randint(1, 69))\n",
    "wb5 = str(random.randint(1, 69))\n",
    "rb1 = str(random.randint(1, 26))\n",
    "sp = \" \"\n",
    "\n",
    "print(\"White balls: \" + wb1 + sp + wb2 + sp + wb3 + sp + wb4 + sp + wb5)\n",
    "print(\"Powerball: \" + rb1)"
   ]
  }
 ],
 "metadata": {
  "kernelspec": {
   "display_name": "Python 3",
   "language": "python",
   "name": "python3"
  },
  "language_info": {
   "codemirror_mode": {
    "name": "ipython",
    "version": 3
   },
   "file_extension": ".py",
   "mimetype": "text/x-python",
   "name": "python",
   "nbconvert_exporter": "python",
   "pygments_lexer": "ipython3",
   "version": "3.7.3"
  }
 },
 "nbformat": 4,
 "nbformat_minor": 2
}
